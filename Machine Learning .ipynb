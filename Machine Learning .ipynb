{
 "cells": [
  {
   "cell_type": "code",
   "execution_count": 1,
   "metadata": {},
   "outputs": [],
   "source": [
    "import findspark\n",
    "findspark.init()\n",
    "findspark.find() \n",
    "from pyspark.sql import SparkSession\n",
    "\n",
    "from pyspark.ml.feature import VectorAssembler\n",
    "from pyspark.ml.feature import StandardScaler\n",
    "\n",
    "from pyspark.ml.classification import LogisticRegression\n",
    "from pyspark.ml.classification import NaiveBayes\n",
    "from pyspark.ml.classification import GBTClassifier\n",
    "from pyspark.ml.classification import RandomForestClassifier  \n",
    "\n",
    "from pyspark.mllib.evaluation import BinaryClassificationMetrics\n",
    "from pyspark.ml.evaluation import MulticlassClassificationEvaluator "
   ]
  },
  {
   "cell_type": "code",
   "execution_count": 2,
   "metadata": {},
   "outputs": [],
   "source": [
    "spark = SparkSession.builder.appName(\"Classification with Spark\").getOrCreate() #create a session"
   ]
  },
  {
   "cell_type": "code",
   "execution_count": 3,
   "metadata": {},
   "outputs": [],
   "source": [
    "dataset = spark.read.csv(\"diabetes.csv\",header=True) # read csv"
   ]
  },
  {
   "cell_type": "code",
   "execution_count": 4,
   "metadata": {},
   "outputs": [
    {
     "name": "stdout",
     "output_type": "stream",
     "text": [
      "+-----------+-------+-------------+-------------+-------+----+------------------------+---+-------+\n",
      "|Pregnancies|Glucose|BloodPressure|SkinThickness|Insulin| BMI|DiabetesPedigreeFunction|Age|Outcome|\n",
      "+-----------+-------+-------------+-------------+-------+----+------------------------+---+-------+\n",
      "|          6|    148|           72|           35|      0|33.6|                   0.627| 50|      1|\n",
      "|          1|     85|           66|           29|      0|26.6|                   0.351| 31|      0|\n",
      "|          8|    183|           64|            0|      0|23.3|                   0.672| 32|      1|\n",
      "|          1|     89|           66|           23|     94|28.1|                   0.167| 21|      0|\n",
      "|          0|    137|           40|           35|    168|43.1|                   2.288| 33|      1|\n",
      "|          5|    116|           74|            0|      0|25.6|                   0.201| 30|      0|\n",
      "|          3|     78|           50|           32|     88|  31|                   0.248| 26|      1|\n",
      "|         10|    115|            0|            0|      0|35.3|                   0.134| 29|      0|\n",
      "|          2|    197|           70|           45|    543|30.5|                   0.158| 53|      1|\n",
      "|          8|    125|           96|            0|      0|   0|                   0.232| 54|      1|\n",
      "|          4|    110|           92|            0|      0|37.6|                   0.191| 30|      0|\n",
      "|         10|    168|           74|            0|      0|  38|                   0.537| 34|      1|\n",
      "|         10|    139|           80|            0|      0|27.1|                   1.441| 57|      0|\n",
      "|          1|    189|           60|           23|    846|30.1|                   0.398| 59|      1|\n",
      "|          5|    166|           72|           19|    175|25.8|                   0.587| 51|      1|\n",
      "|          7|    100|            0|            0|      0|  30|                   0.484| 32|      1|\n",
      "|          0|    118|           84|           47|    230|45.8|                   0.551| 31|      1|\n",
      "|          7|    107|           74|            0|      0|29.6|                   0.254| 31|      1|\n",
      "|          1|    103|           30|           38|     83|43.3|                   0.183| 33|      0|\n",
      "|          1|    115|           70|           30|     96|34.6|                   0.529| 32|      1|\n",
      "+-----------+-------+-------------+-------------+-------+----+------------------------+---+-------+\n",
      "only showing top 20 rows\n",
      "\n"
     ]
    }
   ],
   "source": [
    "dataset.show()"
   ]
  },
  {
   "cell_type": "code",
   "execution_count": 5,
   "metadata": {},
   "outputs": [
    {
     "name": "stdout",
     "output_type": "stream",
     "text": [
      "root\n",
      " |-- Pregnancies: string (nullable = true)\n",
      " |-- Glucose: string (nullable = true)\n",
      " |-- BloodPressure: string (nullable = true)\n",
      " |-- SkinThickness: string (nullable = true)\n",
      " |-- Insulin: string (nullable = true)\n",
      " |-- BMI: string (nullable = true)\n",
      " |-- DiabetesPedigreeFunction: string (nullable = true)\n",
      " |-- Age: string (nullable = true)\n",
      " |-- Outcome: string (nullable = true)\n",
      "\n"
     ]
    }
   ],
   "source": [
    "dataset.printSchema() # datatype "
   ]
  },
  {
   "cell_type": "code",
   "execution_count": 6,
   "metadata": {},
   "outputs": [],
   "source": [
    "from pyspark.sql.functions import col\n",
    "new_data = dataset.select(*(col(c).cast(\"float\").alias(c) for c in dataset.columns))"
   ]
  },
  {
   "cell_type": "code",
   "execution_count": 7,
   "metadata": {},
   "outputs": [
    {
     "name": "stdout",
     "output_type": "stream",
     "text": [
      "root\n",
      " |-- Pregnancies: float (nullable = true)\n",
      " |-- Glucose: float (nullable = true)\n",
      " |-- BloodPressure: float (nullable = true)\n",
      " |-- SkinThickness: float (nullable = true)\n",
      " |-- Insulin: float (nullable = true)\n",
      " |-- BMI: float (nullable = true)\n",
      " |-- DiabetesPedigreeFunction: float (nullable = true)\n",
      " |-- Age: float (nullable = true)\n",
      " |-- Outcome: float (nullable = true)\n",
      "\n"
     ]
    }
   ],
   "source": [
    "new_data.printSchema()"
   ]
  },
  {
   "cell_type": "code",
   "execution_count": 8,
   "metadata": {},
   "outputs": [
    {
     "name": "stdout",
     "output_type": "stream",
     "text": [
      "+-----------+-------+-------------+-------------+-------+---+------------------------+---+-------+\n",
      "|Pregnancies|Glucose|BloodPressure|SkinThickness|Insulin|BMI|DiabetesPedigreeFunction|Age|Outcome|\n",
      "+-----------+-------+-------------+-------------+-------+---+------------------------+---+-------+\n",
      "|          0|      0|            0|            0|      0|  0|                       0|  0|      0|\n",
      "+-----------+-------+-------------+-------------+-------+---+------------------------+---+-------+\n",
      "\n"
     ]
    }
   ],
   "source": [
    "from pyspark.sql.functions import col, count, isnan, when\n",
    "#checking for null ir nan type values in our columns\n",
    "new_data.select([count(when(col(c).isNull(), c)).alias(c) for c in new_data.columns]).show()"
   ]
  },
  {
   "cell_type": "code",
   "execution_count": 9,
   "metadata": {},
   "outputs": [
    {
     "name": "stdout",
     "output_type": "stream",
     "text": [
      "+-----------------------------------------------------------------------+-------+\n",
      "|features                                                               |Outcome|\n",
      "+-----------------------------------------------------------------------+-------+\n",
      "|[6.0,148.0,72.0,35.0,0.0,33.599998474121094,0.6269999742507935,50.0]   |1.0    |\n",
      "|[1.0,85.0,66.0,29.0,0.0,26.600000381469727,0.35100001096725464,31.0]   |0.0    |\n",
      "|[8.0,183.0,64.0,0.0,0.0,23.299999237060547,0.671999990940094,32.0]     |1.0    |\n",
      "|[1.0,89.0,66.0,23.0,94.0,28.100000381469727,0.16699999570846558,21.0]  |0.0    |\n",
      "|[0.0,137.0,40.0,35.0,168.0,43.099998474121094,2.2880001068115234,33.0] |1.0    |\n",
      "|[5.0,116.0,74.0,0.0,0.0,25.600000381469727,0.20100000500679016,30.0]   |0.0    |\n",
      "|[3.0,78.0,50.0,32.0,88.0,31.0,0.24799999594688416,26.0]                |1.0    |\n",
      "|[10.0,115.0,0.0,0.0,0.0,35.29999923706055,0.1340000033378601,29.0]     |0.0    |\n",
      "|[2.0,197.0,70.0,45.0,543.0,30.5,0.15800000727176666,53.0]              |1.0    |\n",
      "|[8.0,125.0,96.0,0.0,0.0,0.0,0.23199999332427979,54.0]                  |1.0    |\n",
      "|[4.0,110.0,92.0,0.0,0.0,37.599998474121094,0.19099999964237213,30.0]   |0.0    |\n",
      "|[10.0,168.0,74.0,0.0,0.0,38.0,0.5370000004768372,34.0]                 |1.0    |\n",
      "|[10.0,139.0,80.0,0.0,0.0,27.100000381469727,1.440999984741211,57.0]    |0.0    |\n",
      "|[1.0,189.0,60.0,23.0,846.0,30.100000381469727,0.39800000190734863,59.0]|1.0    |\n",
      "|[5.0,166.0,72.0,19.0,175.0,25.799999237060547,0.5870000123977661,51.0] |1.0    |\n",
      "|[7.0,100.0,0.0,0.0,0.0,30.0,0.48399999737739563,32.0]                  |1.0    |\n",
      "|[0.0,118.0,84.0,47.0,230.0,45.79999923706055,0.5509999990463257,31.0]  |1.0    |\n",
      "|[7.0,107.0,74.0,0.0,0.0,29.600000381469727,0.2540000081062317,31.0]    |1.0    |\n",
      "|[1.0,103.0,30.0,38.0,83.0,43.29999923706055,0.18299999833106995,33.0]  |0.0    |\n",
      "|[1.0,115.0,70.0,30.0,96.0,34.599998474121094,0.5289999842643738,32.0]  |1.0    |\n",
      "+-----------------------------------------------------------------------+-------+\n",
      "only showing top 20 rows\n",
      "\n"
     ]
    }
   ],
   "source": [
    "cols=new_data.columns\n",
    "cols.remove(\"Outcome\") # remove outcome \n",
    "assembler = VectorAssembler(inputCols=cols,outputCol=\"features\")\n",
    "\n",
    "# Now let us use the transform method to transform our dataset\n",
    "data=assembler.transform(new_data)\n",
    "\n",
    "data.select(\"features\",'Outcome').show(truncate=False) # truncate shows all features "
   ]
  },
  {
   "cell_type": "code",
   "execution_count": 10,
   "metadata": {},
   "outputs": [],
   "source": [
    "standardscaler=StandardScaler().setInputCol(\"features\").setOutputCol(\"Scaled_features\")\n",
    "data=standardscaler.fit(data).transform(data)\n",
    "# scaled features "
   ]
  },
  {
   "cell_type": "code",
   "execution_count": 16,
   "metadata": {},
   "outputs": [
    {
     "name": "stdout",
     "output_type": "stream",
     "text": [
      "+-----------------------------------------------------------------------+-------+---------------------------------------------------------------------------------------------------------------------------------------------------------+\n",
      "|features                                                               |Outcome|Scaled_features                                                                                                                                          |\n",
      "+-----------------------------------------------------------------------+-------+---------------------------------------------------------------------------------------------------------------------------------------------------------+\n",
      "|[6.0,148.0,72.0,35.0,0.0,33.599998474121094,0.6269999742507935,50.0]   |1.0    |[1.7806383732194306,4.628960915766174,3.7198138711154307,2.1940523222807116,0.0,4.261709202425419,1.8923810993699686,4.251616970894646]                  |\n",
      "|[1.0,85.0,66.0,29.0,0.0,26.600000381469727,0.35100001096725464,31.0]   |0.0    |[0.29677306220323846,2.658524850271114,3.4098293818558116,1.8179290670325896,0.0,3.373853320188119,1.0593713140527197,2.6360025219546803]                |\n",
      "|[8.0,183.0,64.0,0.0,0.0,23.299999237060547,0.671999990940094,32.0]     |1.0    |[2.3741844976259077,5.723647618818986,3.306501218769272,0.0,0.0,2.955292430788826,2.028197980632078,2.721034861372573]                                   |\n",
      "|[1.0,89.0,66.0,23.0,94.0,28.100000381469727,0.16699999570846558,21.0]  |0.0    |[0.29677306220323846,2.783631902048578,3.4098293818558116,1.4418058117844677,0.8156606685129459,3.564108203936454,0.5040313372439763,1.785679127775751]  |\n",
      "|[0.0,137.0,40.0,35.0,168.0,43.099998474121094,2.2880001068115234,33.0] |1.0    |[0.0,4.284916523378148,2.0665632617307947,2.1940523222807116,1.4577765139380312,5.466656799498205,6.905531635244907,2.806067200790466]                   |\n",
      "|[5.0,116.0,74.0,0.0,0.0,25.600000381469727,0.20100000500679016,30.0]   |0.0    |[1.4838653110161923,3.628104501546461,3.823142034201971,0.0,0.0,3.247016731022563,0.6066485264255773,2.5509701825367874]                                 |\n",
      "|[3.0,78.0,50.0,32.0,88.0,31.0,0.24799999594688416,26.0]                |1.0    |[0.8903191866097153,2.4395875096605515,2.5832040771634937,2.0059906946566506,0.7635972215865877,3.9319342641322486,0.7485016335678398,2.210840824865216] |\n",
      "|[10.0,115.0,0.0,0.0,0.0,35.29999923706055,0.1340000033378601,29.0]     |0.0    |[2.9677306220323847,3.596827738602095,0.0,0.0,0.0,4.477331500775503,0.4044323509503849,2.4659378431188945]                                               |\n",
      "|[2.0,197.0,70.0,45.0,543.0,30.5,0.15800000727176666,53.0]              |1.0    |[0.5935461244064769,6.161522300040111,3.616485708028891,2.8209244143609147,4.711741946835422,3.8685159695494704,0.4768680059655209,4.5067139891483246]   |\n",
      "|[8.0,125.0,96.0,0.0,0.0,0.0,0.23199999332427979,54.0]                  |1.0    |[2.3741844976259077,3.9095953680457556,4.959751828153908,0.0,0.0,0.0,0.7002111968910825,4.5917463285662174]                                              |\n",
      "|[4.0,110.0,92.0,0.0,0.0,37.599998474121094,0.19099999964237213,30.0]   |0.0    |[1.1870922488129538,3.440443923880265,4.7530955019808285,0.0,0.0,4.7690555590876444,0.5764669922591124,2.5509701825367874]                               |\n",
      "|[10.0,168.0,74.0,0.0,0.0,38.0,0.5370000004768372,34.0]                 |1.0    |[2.9677306220323847,5.254496174653495,3.823142034201971,0.0,0.0,4.8197903882911435,1.6207475167416163,2.891099540208359]                                 |\n",
      "|[10.0,139.0,80.0,0.0,0.0,27.100000381469727,1.440999984741211,57.0]    |0.0    |[2.9677306220323847,4.34747004926688,4.1331265234615895,0.0,0.0,3.4372716147708973,4.349156694264776,4.846843346819896]                                  |\n",
      "|[1.0,189.0,60.0,23.0,846.0,30.100000381469727,0.39800000190734863,59.0]|1.0    |[0.29677306220323846,5.911308196485182,3.0998448925961926,1.4418058117844677,7.340946016616514,3.8177813822675666,1.201224421194982,5.016908025655682]   |\n",
      "|[5.0,166.0,72.0,19.0,175.0,25.799999237060547,0.5870000123977661,51.0] |1.0    |[1.4838653110161923,5.191942648764763,3.7198138711154307,1.1910569749523863,1.5185172020187825,3.272383903702717,1.7716551425999747,4.336649310312539]   |\n",
      "|[7.0,100.0,0.0,0.0,0.0,30.0,0.48399999737739563,32.0]                  |1.0    |[2.077411435422669,3.127676294436604,0.0,0.0,0.0,3.8050976749666923,1.4607854621150949,2.721034861372573]                                                |\n",
      "|[0.0,118.0,84.0,47.0,230.0,45.79999923706055,0.5509999990463257,31.0]  |1.0    |[0.0,3.6906580274351932,4.33978284963467,2.9462988327769555,1.9957654655103998,5.809115687013845,1.6630016375902872,2.6360025219546803]                  |\n",
      "|[7.0,107.0,74.0,0.0,0.0,29.600000381469727,0.2540000081062317,31.0]    |1.0    |[2.077411435422669,3.3466136350471665,3.823142034201971,0.0,0.0,3.7543630876847884,0.7666105810520987,2.6360025219546803]                                |\n",
      "|[1.0,103.0,30.0,38.0,83.0,43.29999923706055,0.18299999833106995,33.0]  |0.0    |[0.29677306220323846,3.2215065832697025,1.5499224462980963,2.3821139499047725,0.7202110158146225,5.4920242140999544,0.5523217739207337,2.806067200790466]|\n",
      "|[1.0,115.0,70.0,30.0,96.0,34.599998474121094,0.5289999842643738,32.0]  |1.0    |[0.29677306220323846,3.596827738602095,3.616485708028891,1.88061627624061,0.833015150821732,4.388545791590976,1.596602253429271,2.721034861372573]       |\n",
      "+-----------------------------------------------------------------------+-------+---------------------------------------------------------------------------------------------------------------------------------------------------------+\n",
      "only showing top 20 rows\n",
      "\n"
     ]
    }
   ],
   "source": [
    "data.select(\"features\",'Outcome','Scaled_features').show(truncate=False)"
   ]
  },
  {
   "cell_type": "code",
   "execution_count": 17,
   "metadata": {},
   "outputs": [
    {
     "name": "stdout",
     "output_type": "stream",
     "text": [
      "+--------------------+-------+\n",
      "|     Scaled_features|Outcome|\n",
      "+--------------------+-------+\n",
      "|[1.78063837321943...|    1.0|\n",
      "|[0.29677306220323...|    0.0|\n",
      "|[2.37418449762590...|    1.0|\n",
      "|[0.29677306220323...|    0.0|\n",
      "|[0.0,4.2849165233...|    1.0|\n",
      "|[1.48386531101619...|    0.0|\n",
      "|[0.89031918660971...|    1.0|\n",
      "|[2.96773062203238...|    0.0|\n",
      "|[0.59354612440647...|    1.0|\n",
      "|[2.37418449762590...|    1.0|\n",
      "|[1.18709224881295...|    0.0|\n",
      "|[2.96773062203238...|    1.0|\n",
      "|[2.96773062203238...|    0.0|\n",
      "|[0.29677306220323...|    1.0|\n",
      "|[1.48386531101619...|    1.0|\n",
      "|[2.07741143542266...|    1.0|\n",
      "|[0.0,3.6906580274...|    1.0|\n",
      "|[2.07741143542266...|    1.0|\n",
      "|[0.29677306220323...|    0.0|\n",
      "|[0.29677306220323...|    1.0|\n",
      "+--------------------+-------+\n",
      "only showing top 20 rows\n",
      "\n"
     ]
    }
   ],
   "source": [
    "assembled_data = data.select(\"Scaled_features\",\"Outcome\")\n",
    "assembled_data.show()"
   ]
  },
  {
   "cell_type": "code",
   "execution_count": 18,
   "metadata": {},
   "outputs": [],
   "source": [
    "train, test = assembled_data.randomSplit([0.7, 0.3])"
   ]
  },
  {
   "cell_type": "code",
   "execution_count": 19,
   "metadata": {},
   "outputs": [
    {
     "name": "stdout",
     "output_type": "stream",
     "text": [
      "+--------------------+-------+\n",
      "|     Scaled_features|Outcome|\n",
      "+--------------------+-------+\n",
      "|(8,[0,1,6,7],[0.5...|    0.0|\n",
      "|(8,[0,1,6,7],[0.8...|    0.0|\n",
      "|(8,[0,1,6,7],[2.0...|    0.0|\n",
      "|(8,[0,1,6,7],[2.9...|    1.0|\n",
      "|(8,[1,5,6,7],[2.2...|    0.0|\n",
      "|(8,[1,5,6,7],[3.6...|    0.0|\n",
      "|(8,[1,5,6,7],[4.0...|    1.0|\n",
      "|(8,[1,5,6,7],[4.4...|    1.0|\n",
      "|(8,[1,5,6,7],[4.5...|    1.0|\n",
      "|(8,[1,6,7],[2.940...|    0.0|\n",
      "|[0.0,1.7827754878...|    0.0|\n",
      "|[0.0,2.0955431172...|    0.0|\n",
      "|[0.0,2.6272480873...|    0.0|\n",
      "|[0.0,2.6272480873...|    0.0|\n",
      "|[0.0,2.8461854279...|    0.0|\n",
      "|[0.0,2.8461854279...|    0.0|\n",
      "|[0.0,2.9087389538...|    0.0|\n",
      "|[0.0,2.9087389538...|    0.0|\n",
      "|[0.0,2.9087389538...|    0.0|\n",
      "|[0.0,2.9712924797...|    0.0|\n",
      "+--------------------+-------+\n",
      "only showing top 20 rows\n",
      "\n"
     ]
    }
   ],
   "source": [
    "train.show()"
   ]
  },
  {
   "cell_type": "code",
   "execution_count": 20,
   "metadata": {},
   "outputs": [
    {
     "name": "stdout",
     "output_type": "stream",
     "text": [
      "+--------------------+-------+\n",
      "|     Scaled_features|Outcome|\n",
      "+--------------------+-------+\n",
      "|(8,[0,1,6,7],[0.5...|    0.0|\n",
      "|(8,[0,1,6,7],[1.7...|    0.0|\n",
      "|(8,[1,5,6,7],[3.0...|    0.0|\n",
      "|(8,[1,5,6,7],[3.7...|    1.0|\n",
      "|(8,[1,5,6,7],[4.3...|    1.0|\n",
      "|(8,[1,5,6,7],[5.2...|    1.0|\n",
      "|[0.0,2.3144804578...|    0.0|\n",
      "|[0.0,2.4395875096...|    0.0|\n",
      "|[0.0,2.6898016132...|    0.0|\n",
      "|[0.0,2.9400157167...|    0.0|\n",
      "|[0.0,3.0338460056...|    0.0|\n",
      "|[0.0,3.1902298203...|    0.0|\n",
      "|[0.0,3.1902298203...|    0.0|\n",
      "|[0.0,3.1902298203...|    0.0|\n",
      "|[0.0,3.2527833462...|    1.0|\n",
      "|[0.0,3.2840601091...|    0.0|\n",
      "|[0.0,3.2840601091...|    0.0|\n",
      "|[0.0,3.3153368721...|    0.0|\n",
      "|[0.0,3.3466136350...|    0.0|\n",
      "|[0.0,3.3466136350...|    0.0|\n",
      "+--------------------+-------+\n",
      "only showing top 20 rows\n",
      "\n"
     ]
    }
   ],
   "source": [
    "test.show()"
   ]
  },
  {
   "cell_type": "markdown",
   "metadata": {},
   "source": [
    "## Logistic Regression"
   ]
  },
  {
   "cell_type": "code",
   "execution_count": 21,
   "metadata": {},
   "outputs": [],
   "source": [
    "log_reg = LogisticRegression(labelCol=\"Outcome\", featuresCol=\"Scaled_features\",maxIter=40)\n",
    "model=log_reg.fit(train)\n",
    "\n",
    "#maxIter - how many iteration model has to perfrom to mimimize loss"
   ]
  },
  {
   "cell_type": "code",
   "execution_count": 22,
   "metadata": {},
   "outputs": [],
   "source": [
    "prediction_test=model.transform(test)"
   ]
  },
  {
   "cell_type": "code",
   "execution_count": 23,
   "metadata": {},
   "outputs": [
    {
     "name": "stdout",
     "output_type": "stream",
     "text": [
      "+--------------------+-------+--------------------+--------------------+----------+\n",
      "|     Scaled_features|Outcome|       rawPrediction|         probability|prediction|\n",
      "+--------------------+-------+--------------------+--------------------+----------+\n",
      "|(8,[0,1,6,7],[0.5...|    0.0|[6.11522027913501...|[0.99779587975603...|       0.0|\n",
      "|(8,[0,1,6,7],[1.7...|    0.0|[4.21007342669834...|[0.98537188024978...|       0.0|\n",
      "|(8,[1,5,6,7],[3.0...|    0.0|[2.58774290337636...|[0.93006855564488...|       0.0|\n",
      "|(8,[1,5,6,7],[3.7...|    1.0|[1.20495209874492...|[0.76940456264114...|       0.0|\n",
      "|(8,[1,5,6,7],[4.3...|    1.0|[-0.7405481213005...|[0.32288429635456...|       1.0|\n",
      "|(8,[1,5,6,7],[5.2...|    1.0|[-1.2330653685001...|[0.22564536491400...|       1.0|\n",
      "|[0.0,2.3144804578...|    0.0|[3.58535884161566...|[0.97302131402817...|       0.0|\n",
      "|[0.0,2.4395875096...|    0.0|[2.59384736548992...|[0.93046455533136...|       0.0|\n",
      "|[0.0,2.6898016132...|    0.0|[2.32868106226885...|[0.91122470012498...|       0.0|\n",
      "|[0.0,2.9400157167...|    0.0|[1.46850877684971...|[0.81283062163998...|       0.0|\n",
      "|[0.0,3.0338460056...|    0.0|[1.66190827828356...|[0.84049400042103...|       0.0|\n",
      "|[0.0,3.1902298203...|    0.0|[3.13220165823437...|[0.95820166108920...|       0.0|\n",
      "|[0.0,3.1902298203...|    0.0|[5.55462234188784...|[0.99614538598992...|       0.0|\n",
      "|[0.0,3.1902298203...|    0.0|[2.38455209686421...|[0.91564171309978...|       0.0|\n",
      "|[0.0,3.2527833462...|    1.0|[1.86914424202597...|[0.86635922808417...|       0.0|\n",
      "|[0.0,3.2840601091...|    0.0|[1.51816017780297...|[0.82026739763301...|       0.0|\n",
      "|[0.0,3.2840601091...|    0.0|[3.53455940127588...|[0.97165525464454...|       0.0|\n",
      "|[0.0,3.3153368721...|    0.0|[1.30418860156515...|[0.78653907382572...|       0.0|\n",
      "|[0.0,3.3466136350...|    0.0|[2.78626310919953...|[0.94192897860431...|       0.0|\n",
      "|[0.0,3.3466136350...|    0.0|[0.19530042437612...|[0.54867050411374...|       0.0|\n",
      "+--------------------+-------+--------------------+--------------------+----------+\n",
      "only showing top 20 rows\n",
      "\n"
     ]
    }
   ],
   "source": [
    "prediction_test.show() # pyspark also gives probability "
   ]
  },
  {
   "cell_type": "code",
   "execution_count": 24,
   "metadata": {},
   "outputs": [
    {
     "name": "stdout",
     "output_type": "stream",
     "text": [
      "+-------+----------+\n",
      "|Outcome|prediction|\n",
      "+-------+----------+\n",
      "|    0.0|       0.0|\n",
      "|    0.0|       0.0|\n",
      "|    0.0|       0.0|\n",
      "|    1.0|       0.0|\n",
      "|    1.0|       1.0|\n",
      "|    1.0|       1.0|\n",
      "|    0.0|       0.0|\n",
      "|    0.0|       0.0|\n",
      "|    0.0|       0.0|\n",
      "|    0.0|       0.0|\n",
      "+-------+----------+\n",
      "only showing top 10 rows\n",
      "\n"
     ]
    }
   ],
   "source": [
    "prediction_test.select(\"Outcome\",\"prediction\").show(10)"
   ]
  },
  {
   "cell_type": "code",
   "execution_count": 25,
   "metadata": {},
   "outputs": [],
   "source": [
    "# Compute raw scores on the test set\n",
    "predictionAndLabels = prediction_test.select(\"Outcome\",\"prediction\").rdd"
   ]
  },
  {
   "cell_type": "code",
   "execution_count": 26,
   "metadata": {},
   "outputs": [
    {
     "data": {
      "text/plain": [
       "[Row(Outcome=0.0, prediction=0.0),\n",
       " Row(Outcome=0.0, prediction=0.0),\n",
       " Row(Outcome=0.0, prediction=0.0),\n",
       " Row(Outcome=1.0, prediction=0.0),\n",
       " Row(Outcome=1.0, prediction=1.0),\n",
       " Row(Outcome=1.0, prediction=1.0),\n",
       " Row(Outcome=0.0, prediction=0.0),\n",
       " Row(Outcome=0.0, prediction=0.0),\n",
       " Row(Outcome=0.0, prediction=0.0),\n",
       " Row(Outcome=0.0, prediction=0.0),\n",
       " Row(Outcome=0.0, prediction=0.0),\n",
       " Row(Outcome=0.0, prediction=0.0),\n",
       " Row(Outcome=0.0, prediction=0.0),\n",
       " Row(Outcome=0.0, prediction=0.0),\n",
       " Row(Outcome=1.0, prediction=0.0),\n",
       " Row(Outcome=0.0, prediction=0.0),\n",
       " Row(Outcome=0.0, prediction=0.0),\n",
       " Row(Outcome=0.0, prediction=0.0),\n",
       " Row(Outcome=0.0, prediction=0.0),\n",
       " Row(Outcome=0.0, prediction=0.0),\n",
       " Row(Outcome=0.0, prediction=0.0),\n",
       " Row(Outcome=1.0, prediction=0.0),\n",
       " Row(Outcome=0.0, prediction=0.0),\n",
       " Row(Outcome=0.0, prediction=0.0),\n",
       " Row(Outcome=0.0, prediction=0.0),\n",
       " Row(Outcome=1.0, prediction=0.0),\n",
       " Row(Outcome=0.0, prediction=0.0),\n",
       " Row(Outcome=1.0, prediction=0.0),\n",
       " Row(Outcome=0.0, prediction=0.0),\n",
       " Row(Outcome=1.0, prediction=0.0),\n",
       " Row(Outcome=0.0, prediction=0.0),\n",
       " Row(Outcome=0.0, prediction=0.0),\n",
       " Row(Outcome=1.0, prediction=0.0),\n",
       " Row(Outcome=0.0, prediction=1.0),\n",
       " Row(Outcome=0.0, prediction=0.0),\n",
       " Row(Outcome=0.0, prediction=0.0),\n",
       " Row(Outcome=0.0, prediction=1.0),\n",
       " Row(Outcome=1.0, prediction=1.0),\n",
       " Row(Outcome=1.0, prediction=1.0),\n",
       " Row(Outcome=0.0, prediction=0.0),\n",
       " Row(Outcome=0.0, prediction=0.0),\n",
       " Row(Outcome=0.0, prediction=0.0),\n",
       " Row(Outcome=0.0, prediction=0.0),\n",
       " Row(Outcome=0.0, prediction=0.0),\n",
       " Row(Outcome=0.0, prediction=0.0),\n",
       " Row(Outcome=0.0, prediction=0.0),\n",
       " Row(Outcome=0.0, prediction=0.0),\n",
       " Row(Outcome=0.0, prediction=0.0),\n",
       " Row(Outcome=0.0, prediction=0.0),\n",
       " Row(Outcome=0.0, prediction=0.0),\n",
       " Row(Outcome=0.0, prediction=0.0),\n",
       " Row(Outcome=0.0, prediction=0.0),\n",
       " Row(Outcome=0.0, prediction=0.0),\n",
       " Row(Outcome=0.0, prediction=0.0),\n",
       " Row(Outcome=0.0, prediction=0.0),\n",
       " Row(Outcome=0.0, prediction=0.0),\n",
       " Row(Outcome=0.0, prediction=0.0),\n",
       " Row(Outcome=0.0, prediction=0.0),\n",
       " Row(Outcome=0.0, prediction=0.0),\n",
       " Row(Outcome=0.0, prediction=0.0),\n",
       " Row(Outcome=0.0, prediction=0.0),\n",
       " Row(Outcome=0.0, prediction=0.0),\n",
       " Row(Outcome=1.0, prediction=0.0),\n",
       " Row(Outcome=0.0, prediction=0.0),\n",
       " Row(Outcome=0.0, prediction=0.0),\n",
       " Row(Outcome=0.0, prediction=0.0),\n",
       " Row(Outcome=0.0, prediction=0.0),\n",
       " Row(Outcome=0.0, prediction=0.0),\n",
       " Row(Outcome=0.0, prediction=0.0),\n",
       " Row(Outcome=1.0, prediction=0.0),\n",
       " Row(Outcome=0.0, prediction=0.0),\n",
       " Row(Outcome=0.0, prediction=0.0),\n",
       " Row(Outcome=0.0, prediction=0.0),\n",
       " Row(Outcome=1.0, prediction=0.0),\n",
       " Row(Outcome=0.0, prediction=0.0),\n",
       " Row(Outcome=1.0, prediction=1.0),\n",
       " Row(Outcome=1.0, prediction=1.0),\n",
       " Row(Outcome=1.0, prediction=1.0),\n",
       " Row(Outcome=1.0, prediction=1.0),\n",
       " Row(Outcome=1.0, prediction=0.0),\n",
       " Row(Outcome=0.0, prediction=0.0),\n",
       " Row(Outcome=0.0, prediction=0.0),\n",
       " Row(Outcome=0.0, prediction=0.0),\n",
       " Row(Outcome=1.0, prediction=0.0),\n",
       " Row(Outcome=0.0, prediction=0.0),\n",
       " Row(Outcome=0.0, prediction=0.0),\n",
       " Row(Outcome=0.0, prediction=0.0),\n",
       " Row(Outcome=0.0, prediction=0.0),\n",
       " Row(Outcome=0.0, prediction=0.0),\n",
       " Row(Outcome=0.0, prediction=0.0),\n",
       " Row(Outcome=0.0, prediction=0.0),\n",
       " Row(Outcome=0.0, prediction=0.0),\n",
       " Row(Outcome=1.0, prediction=0.0),\n",
       " Row(Outcome=0.0, prediction=1.0),\n",
       " Row(Outcome=0.0, prediction=0.0),\n",
       " Row(Outcome=0.0, prediction=0.0),\n",
       " Row(Outcome=0.0, prediction=0.0),\n",
       " Row(Outcome=0.0, prediction=0.0),\n",
       " Row(Outcome=0.0, prediction=0.0),\n",
       " Row(Outcome=0.0, prediction=0.0),\n",
       " Row(Outcome=0.0, prediction=0.0),\n",
       " Row(Outcome=0.0, prediction=0.0),\n",
       " Row(Outcome=0.0, prediction=0.0),\n",
       " Row(Outcome=0.0, prediction=0.0),\n",
       " Row(Outcome=0.0, prediction=0.0),\n",
       " Row(Outcome=1.0, prediction=0.0),\n",
       " Row(Outcome=0.0, prediction=0.0),\n",
       " Row(Outcome=1.0, prediction=0.0),\n",
       " Row(Outcome=1.0, prediction=0.0),\n",
       " Row(Outcome=1.0, prediction=0.0),\n",
       " Row(Outcome=1.0, prediction=1.0),\n",
       " Row(Outcome=1.0, prediction=1.0),\n",
       " Row(Outcome=0.0, prediction=0.0),\n",
       " Row(Outcome=1.0, prediction=0.0),\n",
       " Row(Outcome=0.0, prediction=0.0),\n",
       " Row(Outcome=1.0, prediction=0.0),\n",
       " Row(Outcome=0.0, prediction=0.0),\n",
       " Row(Outcome=0.0, prediction=0.0),\n",
       " Row(Outcome=0.0, prediction=0.0),\n",
       " Row(Outcome=0.0, prediction=0.0),\n",
       " Row(Outcome=0.0, prediction=0.0),\n",
       " Row(Outcome=1.0, prediction=0.0),\n",
       " Row(Outcome=1.0, prediction=0.0),\n",
       " Row(Outcome=0.0, prediction=0.0),\n",
       " Row(Outcome=0.0, prediction=0.0),\n",
       " Row(Outcome=0.0, prediction=0.0),\n",
       " Row(Outcome=0.0, prediction=0.0),\n",
       " Row(Outcome=0.0, prediction=1.0),\n",
       " Row(Outcome=0.0, prediction=0.0),\n",
       " Row(Outcome=0.0, prediction=0.0),\n",
       " Row(Outcome=1.0, prediction=0.0),\n",
       " Row(Outcome=0.0, prediction=0.0),\n",
       " Row(Outcome=1.0, prediction=0.0),\n",
       " Row(Outcome=1.0, prediction=0.0),\n",
       " Row(Outcome=1.0, prediction=1.0),\n",
       " Row(Outcome=1.0, prediction=0.0),\n",
       " Row(Outcome=1.0, prediction=1.0),\n",
       " Row(Outcome=1.0, prediction=0.0),\n",
       " Row(Outcome=1.0, prediction=1.0),\n",
       " Row(Outcome=1.0, prediction=1.0),\n",
       " Row(Outcome=1.0, prediction=1.0),\n",
       " Row(Outcome=0.0, prediction=0.0),\n",
       " Row(Outcome=0.0, prediction=0.0),\n",
       " Row(Outcome=0.0, prediction=0.0),\n",
       " Row(Outcome=1.0, prediction=1.0),\n",
       " Row(Outcome=0.0, prediction=0.0),\n",
       " Row(Outcome=0.0, prediction=0.0),\n",
       " Row(Outcome=1.0, prediction=0.0),\n",
       " Row(Outcome=1.0, prediction=0.0),\n",
       " Row(Outcome=0.0, prediction=0.0),\n",
       " Row(Outcome=0.0, prediction=0.0),\n",
       " Row(Outcome=1.0, prediction=1.0),\n",
       " Row(Outcome=0.0, prediction=0.0),\n",
       " Row(Outcome=1.0, prediction=1.0),\n",
       " Row(Outcome=0.0, prediction=0.0),\n",
       " Row(Outcome=1.0, prediction=0.0),\n",
       " Row(Outcome=0.0, prediction=0.0),\n",
       " Row(Outcome=1.0, prediction=1.0),\n",
       " Row(Outcome=1.0, prediction=1.0),\n",
       " Row(Outcome=0.0, prediction=1.0),\n",
       " Row(Outcome=1.0, prediction=0.0),\n",
       " Row(Outcome=0.0, prediction=0.0),\n",
       " Row(Outcome=0.0, prediction=0.0),\n",
       " Row(Outcome=0.0, prediction=0.0),\n",
       " Row(Outcome=1.0, prediction=0.0),\n",
       " Row(Outcome=1.0, prediction=0.0),\n",
       " Row(Outcome=1.0, prediction=0.0),\n",
       " Row(Outcome=0.0, prediction=0.0),\n",
       " Row(Outcome=0.0, prediction=0.0),\n",
       " Row(Outcome=0.0, prediction=0.0),\n",
       " Row(Outcome=0.0, prediction=0.0),\n",
       " Row(Outcome=0.0, prediction=1.0),\n",
       " Row(Outcome=1.0, prediction=1.0),\n",
       " Row(Outcome=1.0, prediction=1.0),\n",
       " Row(Outcome=0.0, prediction=0.0),\n",
       " Row(Outcome=0.0, prediction=0.0),\n",
       " Row(Outcome=0.0, prediction=0.0),\n",
       " Row(Outcome=0.0, prediction=0.0),\n",
       " Row(Outcome=0.0, prediction=0.0),\n",
       " Row(Outcome=1.0, prediction=0.0),\n",
       " Row(Outcome=0.0, prediction=0.0),\n",
       " Row(Outcome=0.0, prediction=0.0),\n",
       " Row(Outcome=0.0, prediction=0.0),\n",
       " Row(Outcome=0.0, prediction=0.0),\n",
       " Row(Outcome=0.0, prediction=0.0),\n",
       " Row(Outcome=0.0, prediction=0.0),\n",
       " Row(Outcome=1.0, prediction=1.0),\n",
       " Row(Outcome=0.0, prediction=0.0),\n",
       " Row(Outcome=1.0, prediction=0.0),\n",
       " Row(Outcome=1.0, prediction=0.0),\n",
       " Row(Outcome=1.0, prediction=0.0),\n",
       " Row(Outcome=0.0, prediction=0.0),\n",
       " Row(Outcome=0.0, prediction=1.0),\n",
       " Row(Outcome=0.0, prediction=0.0),\n",
       " Row(Outcome=0.0, prediction=1.0),\n",
       " Row(Outcome=1.0, prediction=0.0),\n",
       " Row(Outcome=1.0, prediction=1.0),\n",
       " Row(Outcome=0.0, prediction=1.0),\n",
       " Row(Outcome=1.0, prediction=1.0),\n",
       " Row(Outcome=1.0, prediction=1.0),\n",
       " Row(Outcome=0.0, prediction=0.0),\n",
       " Row(Outcome=0.0, prediction=0.0),\n",
       " Row(Outcome=0.0, prediction=0.0),\n",
       " Row(Outcome=0.0, prediction=0.0),\n",
       " Row(Outcome=0.0, prediction=0.0),\n",
       " Row(Outcome=1.0, prediction=0.0),\n",
       " Row(Outcome=0.0, prediction=0.0),\n",
       " Row(Outcome=1.0, prediction=0.0),\n",
       " Row(Outcome=1.0, prediction=0.0),\n",
       " Row(Outcome=0.0, prediction=0.0),\n",
       " Row(Outcome=1.0, prediction=1.0),\n",
       " Row(Outcome=1.0, prediction=1.0),\n",
       " Row(Outcome=0.0, prediction=0.0),\n",
       " Row(Outcome=0.0, prediction=0.0),\n",
       " Row(Outcome=1.0, prediction=0.0),\n",
       " Row(Outcome=0.0, prediction=0.0),\n",
       " Row(Outcome=1.0, prediction=0.0),\n",
       " Row(Outcome=1.0, prediction=1.0),\n",
       " Row(Outcome=0.0, prediction=1.0),\n",
       " Row(Outcome=1.0, prediction=1.0),\n",
       " Row(Outcome=1.0, prediction=1.0),\n",
       " Row(Outcome=1.0, prediction=1.0),\n",
       " Row(Outcome=0.0, prediction=0.0),\n",
       " Row(Outcome=0.0, prediction=0.0),\n",
       " Row(Outcome=1.0, prediction=0.0),\n",
       " Row(Outcome=0.0, prediction=1.0),\n",
       " Row(Outcome=0.0, prediction=0.0),\n",
       " Row(Outcome=1.0, prediction=0.0),\n",
       " Row(Outcome=1.0, prediction=1.0),\n",
       " Row(Outcome=0.0, prediction=1.0),\n",
       " Row(Outcome=1.0, prediction=1.0),\n",
       " Row(Outcome=0.0, prediction=0.0),\n",
       " Row(Outcome=0.0, prediction=1.0),\n",
       " Row(Outcome=1.0, prediction=1.0),\n",
       " Row(Outcome=1.0, prediction=1.0),\n",
       " Row(Outcome=1.0, prediction=1.0),\n",
       " Row(Outcome=1.0, prediction=1.0),\n",
       " Row(Outcome=1.0, prediction=0.0),\n",
       " Row(Outcome=0.0, prediction=1.0),\n",
       " Row(Outcome=0.0, prediction=1.0),\n",
       " Row(Outcome=1.0, prediction=1.0),\n",
       " Row(Outcome=1.0, prediction=1.0),\n",
       " Row(Outcome=1.0, prediction=0.0),\n",
       " Row(Outcome=1.0, prediction=1.0)]"
      ]
     },
     "execution_count": 26,
     "metadata": {},
     "output_type": "execute_result"
    }
   ],
   "source": [
    "predictionAndLabels.collect()"
   ]
  },
  {
   "cell_type": "code",
   "execution_count": 27,
   "metadata": {},
   "outputs": [
    {
     "name": "stdout",
     "output_type": "stream",
     "text": [
      "Area under ROC = 0.7410714285714285\n"
     ]
    }
   ],
   "source": [
    "metrics = BinaryClassificationMetrics(predictionAndLabels)\n",
    "\n",
    "# Area under ROC curve\n",
    "print(\"Area under ROC = %s\" % metrics.areaUnderROC)"
   ]
  },
  {
   "cell_type": "code",
   "execution_count": null,
   "metadata": {},
   "outputs": [],
   "source": []
  },
  {
   "cell_type": "code",
   "execution_count": 28,
   "metadata": {},
   "outputs": [
    {
     "name": "stdout",
     "output_type": "stream",
     "text": [
      "Accuracy =  0.7459016393442623\n"
     ]
    }
   ],
   "source": [
    "evaluator = MulticlassClassificationEvaluator(labelCol=\"Outcome\", predictionCol=\"prediction\", metricName=\"accuracy\")\n",
    "accuracy_LR = evaluator.evaluate(prediction_test)\n",
    "print (\"Accuracy = \" ,accuracy_LR) # Accuracy "
   ]
  },
  {
   "cell_type": "markdown",
   "metadata": {},
   "source": [
    "## NaiveBayes"
   ]
  },
  {
   "cell_type": "code",
   "execution_count": 29,
   "metadata": {},
   "outputs": [],
   "source": [
    "naive_bayes = NaiveBayes(featuresCol='Scaled_features',labelCol='Outcome',smoothing=1.0)  # smooth categorical data variables to get rid of 0 probability   "
   ]
  },
  {
   "cell_type": "code",
   "execution_count": 30,
   "metadata": {},
   "outputs": [],
   "source": [
    "model = naive_bayes.fit(train) "
   ]
  },
  {
   "cell_type": "code",
   "execution_count": 31,
   "metadata": {},
   "outputs": [],
   "source": [
    "# select example rows to display.\n",
    "prediction_test = model.transform(test)"
   ]
  },
  {
   "cell_type": "code",
   "execution_count": 32,
   "metadata": {},
   "outputs": [
    {
     "name": "stdout",
     "output_type": "stream",
     "text": [
      "+--------------------+-------+--------------------+--------------------+----------+\n",
      "|     Scaled_features|Outcome|       rawPrediction|         probability|prediction|\n",
      "+--------------------+-------+--------------------+--------------------+----------+\n",
      "|(8,[0,1,6,7],[0.5...|    0.0|[-10.252403111445...|[0.58726226499928...|       0.0|\n",
      "|(8,[0,1,6,7],[1.7...|    0.0|[-17.053073767618...|[0.50279848574526...|       0.0|\n",
      "|(8,[1,5,6,7],[3.0...|    0.0|[-15.831029606240...|[0.61333668157596...|       0.0|\n",
      "|(8,[1,5,6,7],[3.7...|    1.0|[-17.716163242553...|[0.61676608015817...|       0.0|\n",
      "|(8,[1,5,6,7],[4.3...|    1.0|[-25.854127812175...|[0.55821965526428...|       0.0|\n",
      "|(8,[1,5,6,7],[5.2...|    1.0|[-26.620742469296...|[0.54680510024776...|       0.0|\n",
      "|[0.0,2.3144804578...|    0.0|[-22.249255486569...|[0.70736265910557...|       0.0|\n",
      "|[0.0,2.4395875096...|    0.0|[-31.605893169364...|[0.76633663427380...|       0.0|\n",
      "|[0.0,2.6898016132...|    0.0|[-28.565977001673...|[0.75676602488264...|       0.0|\n",
      "|[0.0,2.9400157167...|    0.0|[-33.365998247791...|[0.73495358987653...|       0.0|\n",
      "|[0.0,3.0338460056...|    0.0|[-35.420965591955...|[0.71920636435219...|       0.0|\n",
      "|[0.0,3.1902298203...|    0.0|[-18.780942892086...|[0.69894946081442...|       0.0|\n",
      "|[0.0,3.1902298203...|    0.0|[-23.553436389507...|[0.70897645435296...|       0.0|\n",
      "|[0.0,3.1902298203...|    0.0|[-34.128051697341...|[0.71580253218386...|       0.0|\n",
      "|[0.0,3.2527833462...|    1.0|[-33.083092833341...|[0.72502079591157...|       0.0|\n",
      "|[0.0,3.2840601091...|    0.0|[-34.931625997060...|[0.74094814590657...|       0.0|\n",
      "|[0.0,3.2840601091...|    0.0|[-24.328677346404...|[0.72950228703397...|       0.0|\n",
      "|[0.0,3.3153368721...|    0.0|[-38.000534790441...|[0.71884069904447...|       0.0|\n",
      "|[0.0,3.3466136350...|    0.0|[-24.845733442909...|[0.73119005290944...|       0.0|\n",
      "|[0.0,3.3466136350...|    0.0|[-30.216483391193...|[0.70911701947866...|       0.0|\n",
      "+--------------------+-------+--------------------+--------------------+----------+\n",
      "only showing top 20 rows\n",
      "\n"
     ]
    }
   ],
   "source": [
    "prediction_test.show()"
   ]
  },
  {
   "cell_type": "code",
   "execution_count": 33,
   "metadata": {},
   "outputs": [
    {
     "name": "stdout",
     "output_type": "stream",
     "text": [
      "+-------+----------+\n",
      "|Outcome|prediction|\n",
      "+-------+----------+\n",
      "|    0.0|       0.0|\n",
      "|    0.0|       0.0|\n",
      "|    0.0|       0.0|\n",
      "|    1.0|       0.0|\n",
      "|    1.0|       0.0|\n",
      "|    1.0|       0.0|\n",
      "|    0.0|       0.0|\n",
      "|    0.0|       0.0|\n",
      "|    0.0|       0.0|\n",
      "|    0.0|       0.0|\n",
      "+-------+----------+\n",
      "only showing top 10 rows\n",
      "\n"
     ]
    }
   ],
   "source": [
    "prediction_test.select(\"Outcome\",\"prediction\").show(10)"
   ]
  },
  {
   "cell_type": "code",
   "execution_count": 34,
   "metadata": {},
   "outputs": [],
   "source": [
    "predictionAndLabels = prediction_test.select(\"Outcome\",\"prediction\").rdd"
   ]
  },
  {
   "cell_type": "code",
   "execution_count": 37,
   "metadata": {},
   "outputs": [],
   "source": [
    "# Select (prediction, true label) and compute test error\n",
    "evaluator = MulticlassClassificationEvaluator(labelCol=\"Outcome\", predictionCol=\"prediction\", metricName=\"accuracy\")\n",
    "accuracy_NB = evaluator.evaluate(prediction_test)"
   ]
  },
  {
   "cell_type": "code",
   "execution_count": 38,
   "metadata": {},
   "outputs": [
    {
     "name": "stdout",
     "output_type": "stream",
     "text": [
      "Accuracy 0.6557377049180327\n"
     ]
    }
   ],
   "source": [
    "print (\"Accuracy\",accuracy_NB)"
   ]
  },
  {
   "cell_type": "code",
   "execution_count": 36,
   "metadata": {},
   "outputs": [
    {
     "name": "stdout",
     "output_type": "stream",
     "text": [
      "Area under ROC = 0.7422969187675071\n"
     ]
    }
   ],
   "source": [
    "metrics = BinaryClassificationMetrics(predictionAndLabels)\n",
    "\n",
    "# Area under ROC curve\n",
    "print(\"Area under ROC = %s\" % metrics.areaUnderROC)"
   ]
  },
  {
   "cell_type": "code",
   "execution_count": null,
   "metadata": {},
   "outputs": [],
   "source": []
  },
  {
   "cell_type": "markdown",
   "metadata": {},
   "source": [
    "## GBTClassifier"
   ]
  },
  {
   "cell_type": "code",
   "execution_count": 40,
   "metadata": {},
   "outputs": [],
   "source": [
    "gradient_boost_class = GBTClassifier(labelCol=\"Outcome\", featuresCol=\"Scaled_features\")"
   ]
  },
  {
   "cell_type": "code",
   "execution_count": 41,
   "metadata": {},
   "outputs": [],
   "source": [
    "model = gradient_boost_class.fit(train)"
   ]
  },
  {
   "cell_type": "code",
   "execution_count": 42,
   "metadata": {},
   "outputs": [],
   "source": [
    "prediction_test = model.transform(test)"
   ]
  },
  {
   "cell_type": "code",
   "execution_count": 43,
   "metadata": {},
   "outputs": [
    {
     "name": "stdout",
     "output_type": "stream",
     "text": [
      "+--------------------+-------+--------------------+--------------------+----------+\n",
      "|     Scaled_features|Outcome|       rawPrediction|         probability|prediction|\n",
      "+--------------------+-------+--------------------+--------------------+----------+\n",
      "|(8,[0,1,6,7],[0.5...|    0.0|[1.55863695793772...|[0.95759968021031...|       0.0|\n",
      "|(8,[0,1,6,7],[1.7...|    0.0|[0.99002182484175...|[0.87868581511282...|       0.0|\n",
      "|(8,[1,5,6,7],[3.0...|    0.0|[1.55863695793772...|[0.95759968021031...|       0.0|\n",
      "|(8,[1,5,6,7],[3.7...|    1.0|[1.53526807478471...|[0.95566089630662...|       0.0|\n",
      "|(8,[1,5,6,7],[4.3...|    1.0|[-1.5968356571591...|[0.03940457825293...|       1.0|\n",
      "|(8,[1,5,6,7],[5.2...|    1.0|[-1.2762595968437...|[0.07225742587878...|       1.0|\n",
      "|[0.0,2.3144804578...|    0.0|[1.58749557551826...|[0.95988222728447...|       0.0|\n",
      "|[0.0,2.4395875096...|    0.0|[1.00853424486459...|[0.88257754431220...|       0.0|\n",
      "|[0.0,2.6898016132...|    0.0|[1.19504048179240...|[0.91606779340716...|       0.0|\n",
      "|[0.0,2.9400157167...|    0.0|[0.94172378392957...|[0.86800661957761...|       0.0|\n",
      "|[0.0,3.0338460056...|    0.0|[0.75345667520762...|[0.81860331496301...|       0.0|\n",
      "|[0.0,3.1902298203...|    0.0|[1.56215207689670...|[0.95788420916368...|       0.0|\n",
      "|[0.0,3.1902298203...|    0.0|[1.49124164690459...|[0.95177647749147...|       0.0|\n",
      "|[0.0,3.1902298203...|    0.0|[0.87928224268143...|[0.85302978095621...|       0.0|\n",
      "|[0.0,3.2527833462...|    1.0|[1.29649109865099...|[0.93040855786762...|       0.0|\n",
      "|[0.0,3.2840601091...|    0.0|[1.13310531170147...|[0.90603968739786...|       0.0|\n",
      "|[0.0,3.2840601091...|    0.0|[1.52005481013912...|[0.95435360481986...|       0.0|\n",
      "|[0.0,3.3153368721...|    0.0|[0.96709282867349...|[0.87371198548063...|       0.0|\n",
      "|[0.0,3.3466136350...|    0.0|[1.52013702129322...|[0.95436076698121...|       0.0|\n",
      "|[0.0,3.3466136350...|    0.0|[0.77978869878602...|[0.82629270392047...|       0.0|\n",
      "+--------------------+-------+--------------------+--------------------+----------+\n",
      "only showing top 20 rows\n",
      "\n"
     ]
    }
   ],
   "source": [
    "prediction_test.show()"
   ]
  },
  {
   "cell_type": "code",
   "execution_count": 44,
   "metadata": {},
   "outputs": [
    {
     "name": "stdout",
     "output_type": "stream",
     "text": [
      "+-------+----------+\n",
      "|Outcome|prediction|\n",
      "+-------+----------+\n",
      "|    0.0|       0.0|\n",
      "|    0.0|       0.0|\n",
      "|    0.0|       0.0|\n",
      "|    1.0|       0.0|\n",
      "|    1.0|       1.0|\n",
      "|    1.0|       1.0|\n",
      "|    0.0|       0.0|\n",
      "|    0.0|       0.0|\n",
      "|    0.0|       0.0|\n",
      "|    0.0|       0.0|\n",
      "+-------+----------+\n",
      "only showing top 10 rows\n",
      "\n"
     ]
    }
   ],
   "source": [
    "prediction_test.select(\"Outcome\",\"prediction\").show(10)"
   ]
  },
  {
   "cell_type": "code",
   "execution_count": 45,
   "metadata": {},
   "outputs": [],
   "source": [
    "predictionAndLabels = prediction_test.select(\"Outcome\",\"prediction\").rdd"
   ]
  },
  {
   "cell_type": "code",
   "execution_count": 46,
   "metadata": {},
   "outputs": [
    {
     "name": "stdout",
     "output_type": "stream",
     "text": [
      "Area under ROC = 0.7704551433833202\n"
     ]
    }
   ],
   "source": [
    "metrics = BinaryClassificationMetrics(predictionAndLabels)\n",
    "\n",
    "# Area under ROC curve\n",
    "print(\"Area under ROC = %s\" % metrics.areaUnderROC)"
   ]
  },
  {
   "cell_type": "code",
   "execution_count": 47,
   "metadata": {},
   "outputs": [],
   "source": [
    "# Select (prediction, true label) and compute test error\n",
    "evaluator = MulticlassClassificationEvaluator( labelCol=\"Outcome\", predictionCol=\"prediction\", metricName=\"accuracy\")\n",
    "accuracy_GBT = evaluator.evaluate(prediction_test)"
   ]
  },
  {
   "cell_type": "code",
   "execution_count": 48,
   "metadata": {},
   "outputs": [
    {
     "name": "stdout",
     "output_type": "stream",
     "text": [
      "Accuracy 0.7745901639344263\n"
     ]
    }
   ],
   "source": [
    "print (\"Accuracy\",accuracy_GBT)"
   ]
  },
  {
   "cell_type": "markdown",
   "metadata": {},
   "source": [
    "## RandomForestClassifier"
   ]
  },
  {
   "cell_type": "code",
   "execution_count": 50,
   "metadata": {},
   "outputs": [],
   "source": [
    "random_forest_classifier = RandomForestClassifier(labelCol=\"Outcome\", featuresCol=\"Scaled_features\", numTrees=40)"
   ]
  },
  {
   "cell_type": "code",
   "execution_count": 51,
   "metadata": {},
   "outputs": [],
   "source": [
    "model = random_forest_classifier.fit(train)"
   ]
  },
  {
   "cell_type": "code",
   "execution_count": 52,
   "metadata": {},
   "outputs": [],
   "source": [
    "prediction_test = model.transform(test)"
   ]
  },
  {
   "cell_type": "code",
   "execution_count": 53,
   "metadata": {},
   "outputs": [
    {
     "name": "stdout",
     "output_type": "stream",
     "text": [
      "+--------------------+-------+--------------------+--------------------+----------+\n",
      "|     Scaled_features|Outcome|       rawPrediction|         probability|prediction|\n",
      "+--------------------+-------+--------------------+--------------------+----------+\n",
      "|(8,[0,1,6,7],[0.5...|    0.0|[38.8824078667804...|[0.97206019666951...|       0.0|\n",
      "|(8,[0,1,6,7],[1.7...|    0.0|[32.8351333622286...|[0.82087833405571...|       0.0|\n",
      "|(8,[1,5,6,7],[3.0...|    0.0|[38.9395507239233...|[0.97348876809808...|       0.0|\n",
      "|(8,[1,5,6,7],[3.7...|    1.0|[31.4405975586591...|[0.78601493896647...|       0.0|\n",
      "|(8,[1,5,6,7],[4.3...|    1.0|[16.7418583308680...|[0.41854645827170...|       1.0|\n",
      "|(8,[1,5,6,7],[5.2...|    1.0|[9.36797262221872...|[0.23419931555546...|       1.0|\n",
      "|[0.0,2.3144804578...|    0.0|[38.7637490072629...|[0.96909372518157...|       0.0|\n",
      "|[0.0,2.4395875096...|    0.0|[34.9461539190584...|[0.87365384797646...|       0.0|\n",
      "|[0.0,2.6898016132...|    0.0|[34.1633588747655...|[0.85408397186913...|       0.0|\n",
      "|[0.0,2.9400157167...|    0.0|[32.0314640156511...|[0.80078660039127...|       0.0|\n",
      "|[0.0,3.0338460056...|    0.0|[33.1182631402259...|[0.82795657850564...|       0.0|\n",
      "|[0.0,3.1902298203...|    0.0|[37.8471590465840...|[0.94617897616460...|       0.0|\n",
      "|[0.0,3.1902298203...|    0.0|[38.7520576305871...|[0.96880144076467...|       0.0|\n",
      "|[0.0,3.1902298203...|    0.0|[34.4596202338830...|[0.86149050584707...|       0.0|\n",
      "|[0.0,3.2527833462...|    1.0|[35.8294700542957...|[0.89573675135739...|       0.0|\n",
      "|[0.0,3.2840601091...|    0.0|[31.2126835018769...|[0.78031708754692...|       0.0|\n",
      "|[0.0,3.2840601091...|    0.0|[38.8471590465840...|[0.97117897616460...|       0.0|\n",
      "|[0.0,3.3153368721...|    0.0|[29.8776606449247...|[0.74694151612311...|       0.0|\n",
      "|[0.0,3.3466136350...|    0.0|[38.8471590465840...|[0.97117897616460...|       0.0|\n",
      "|[0.0,3.3466136350...|    0.0|[24.3147508966980...|[0.60786877241745...|       0.0|\n",
      "+--------------------+-------+--------------------+--------------------+----------+\n",
      "only showing top 20 rows\n",
      "\n"
     ]
    }
   ],
   "source": [
    "prediction_test.show()"
   ]
  },
  {
   "cell_type": "code",
   "execution_count": 54,
   "metadata": {},
   "outputs": [
    {
     "name": "stdout",
     "output_type": "stream",
     "text": [
      "+-------+----------+\n",
      "|Outcome|prediction|\n",
      "+-------+----------+\n",
      "|    0.0|       0.0|\n",
      "|    0.0|       0.0|\n",
      "|    0.0|       0.0|\n",
      "|    1.0|       0.0|\n",
      "|    1.0|       1.0|\n",
      "|    1.0|       1.0|\n",
      "|    0.0|       0.0|\n",
      "|    0.0|       0.0|\n",
      "|    0.0|       0.0|\n",
      "|    0.0|       0.0|\n",
      "+-------+----------+\n",
      "only showing top 10 rows\n",
      "\n"
     ]
    }
   ],
   "source": [
    "prediction_test.select(\"Outcome\",\"prediction\").show(10)"
   ]
  },
  {
   "cell_type": "code",
   "execution_count": 56,
   "metadata": {},
   "outputs": [],
   "source": [
    "predictionAndLabels = prediction_test.select(\"Outcome\",\"prediction\").rdd"
   ]
  },
  {
   "cell_type": "code",
   "execution_count": 57,
   "metadata": {},
   "outputs": [
    {
     "name": "stdout",
     "output_type": "stream",
     "text": [
      "Area under ROC = 0.7836484983314794\n"
     ]
    }
   ],
   "source": [
    "metrics = BinaryClassificationMetrics(predictionAndLabels)\n",
    "\n",
    "# Area under ROC curve\n",
    "print(\"Area under ROC = %s\" % metrics.areaUnderROC)"
   ]
  },
  {
   "cell_type": "code",
   "execution_count": 58,
   "metadata": {},
   "outputs": [],
   "source": [
    "# Select (prediction, true label) and compute test error\n",
    "evaluator = MulticlassClassificationEvaluator( labelCol=\"Outcome\", predictionCol=\"prediction\", metricName=\"accuracy\")\n",
    "accuracy_RF= evaluator.evaluate(prediction_test)"
   ]
  },
  {
   "cell_type": "code",
   "execution_count": 59,
   "metadata": {},
   "outputs": [
    {
     "name": "stdout",
     "output_type": "stream",
     "text": [
      "Accuracy 0.7786885245901639\n"
     ]
    }
   ],
   "source": [
    "print (\"Accuracy\",accuracy_RF)"
   ]
  },
  {
   "cell_type": "code",
   "execution_count": 60,
   "metadata": {},
   "outputs": [
    {
     "name": "stdout",
     "output_type": "stream",
     "text": [
      "Accuracy of GBT :  0.7745901639344263\n",
      "Accuracy of LR :  0.7459016393442623\n",
      "Accuracy of NB :  0.6557377049180327\n",
      "Accuracy of RF :  0.7786885245901639\n"
     ]
    }
   ],
   "source": [
    "print(\"Accuracy of GBT : \",accuracy_GBT)\n",
    "print(\"Accuracy of LR : \",accuracy_LR)\n",
    "print(\"Accuracy of NB : \",accuracy_NB)\n",
    "print(\"Accuracy of RF : \",accuracy_RF)\n",
    "\n"
   ]
  },
  {
   "cell_type": "code",
   "execution_count": null,
   "metadata": {},
   "outputs": [],
   "source": []
  },
  {
   "cell_type": "code",
   "execution_count": null,
   "metadata": {},
   "outputs": [],
   "source": []
  }
 ],
 "metadata": {
  "kernelspec": {
   "display_name": "Python 3",
   "language": "python",
   "name": "python3"
  },
  "language_info": {
   "codemirror_mode": {
    "name": "ipython",
    "version": 3
   },
   "file_extension": ".py",
   "mimetype": "text/x-python",
   "name": "python",
   "nbconvert_exporter": "python",
   "pygments_lexer": "ipython3",
   "version": "3.7.6"
  }
 },
 "nbformat": 4,
 "nbformat_minor": 4
}
